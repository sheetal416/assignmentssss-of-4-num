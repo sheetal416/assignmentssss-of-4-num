{
 "cells": [
  {
   "cell_type": "code",
   "execution_count": 61,
   "metadata": {},
   "outputs": [
    {
     "name": "stdout",
     "output_type": "stream",
     "text": [
      "a=3\n",
      "b=5\n",
      "c=7\n",
      "area :  6.49519052838329\n"
     ]
    }
   ],
   "source": [
    "#1.1\n",
    "class sides_of_triangle:\n",
    "    def __init__(self, a,b,c):\n",
    "        self.a =float(a)\n",
    "        self.b = float(b)\n",
    "        self.c = float(c)\n",
    "a = int(input(\"a=\"))    \n",
    "b = int(input(\"b=\"))       \n",
    "c = int(input(\"c=\"))   \n",
    "\n",
    "class base_triangle(sides_of_triangle):\n",
    "    def get_area(self):\n",
    "        s = (a+b+c) / 2\n",
    "        return (s*(s-a)*(s-b)*(s-c))** 0.5\n",
    "t = triangle(a,b,c)\n",
    "print(\"area :  {}\".format(t.get_area()))"
   ]
  },
  {
   "cell_type": "code",
   "execution_count": 12,
   "metadata": {},
   "outputs": [
    {
     "name": "stdout",
     "output_type": "stream",
     "text": [
      "longest words are:['enthusiasm', 'engineering', 'machines']\n"
     ]
    }
   ],
   "source": [
    "#1.2\n",
    "def filter_long_words(intake_words,intake_number):\n",
    "    l = list()\n",
    "    for i in intake_words:\n",
    "        if len(i) > intake_number:\n",
    "            l.append(i)\n",
    "    print(f\"longest words are:{l}\")\n",
    "lst = [\"enthusiasm\", \"engineering\", \"machines\",\"bank\"]\n",
    "filter_long_words(lst, 5)\n",
    "\n",
    "    \n",
    "   "
   ]
  },
  {
   "cell_type": "code",
   "execution_count": 8,
   "metadata": {},
   "outputs": [],
   "source": [
    "#2.1\n",
    "def lengthofword_len(words):\n",
    "    return len(words)"
   ]
  },
  {
   "cell_type": "code",
   "execution_count": 10,
   "metadata": {},
   "outputs": [
    {
     "data": {
      "text/plain": [
       "[2, 3, 4]"
      ]
     },
     "execution_count": 10,
     "metadata": {},
     "output_type": "execute_result"
    }
   ],
   "source": [
    "l = ['ab','cde','erty']\n",
    "result = map(lengthofword_len, l)\n",
    "list(result)"
   ]
  },
  {
   "cell_type": "code",
   "execution_count": 4,
   "metadata": {},
   "outputs": [],
   "source": [
    "#2.2\n",
    "def vowel_checker(char):\n",
    "    if char == \"a\" or char == \"e\" or char == \"i\" or char == \"o\" or char == \"u\":\n",
    "        return True\n",
    "    else:\n",
    "        return False\n"
   ]
  },
  {
   "cell_type": "code",
   "execution_count": 5,
   "metadata": {},
   "outputs": [
    {
     "name": "stdout",
     "output_type": "stream",
     "text": [
      "Input your charactere\n"
     ]
    },
    {
     "data": {
      "text/plain": [
       "True"
      ]
     },
     "execution_count": 5,
     "metadata": {},
     "output_type": "execute_result"
    }
   ],
   "source": [
    "vowel_checker(input(\"Input your character\"))"
   ]
  },
  {
   "cell_type": "code",
   "execution_count": null,
   "metadata": {},
   "outputs": [],
   "source": []
  }
 ],
 "metadata": {
  "kernelspec": {
   "display_name": "Python 3",
   "language": "python",
   "name": "python3"
  },
  "language_info": {
   "codemirror_mode": {
    "name": "ipython",
    "version": 3
   },
   "file_extension": ".py",
   "mimetype": "text/x-python",
   "name": "python",
   "nbconvert_exporter": "python",
   "pygments_lexer": "ipython3",
   "version": "3.7.3"
  }
 },
 "nbformat": 4,
 "nbformat_minor": 2
}
